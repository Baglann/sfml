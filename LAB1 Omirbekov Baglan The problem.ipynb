{
 "cells": [
  {
   "cell_type": "markdown",
   "metadata": {},
   "source": [
    "exercise1"
   ]
  },
  {
   "cell_type": "code",
   "execution_count": 5,
   "metadata": {},
   "outputs": [
    {
     "name": "stdout",
     "output_type": "stream",
     "text": [
      "2.3\n"
     ]
    }
   ],
   "source": [
    "inputs = [1.0 , 2.0 , 3.0]\n",
    "weight = [0.2 , 0.8 , -0.5]\n",
    "bias = 2.0\n",
    "\n",
    "output = inputs[0]*weight[0] + inputs[1]*weight[1]+ inputs[2]*weight[2] + bias\n",
    "print(output)"
   ]
  },
  {
   "cell_type": "markdown",
   "metadata": {},
   "source": [
    "exercise2"
   ]
  },
  {
   "cell_type": "code",
   "execution_count": 35,
   "metadata": {},
   "outputs": [
    {
     "name": "stdout",
     "output_type": "stream",
     "text": [
      "[4.8, 1.21, 2.385]\n"
     ]
    }
   ],
   "source": [
    "inputs = [1.0 , 2.0 , 3.0 , 2.5]\n",
    "weight1 = [0.2 , 0.8 , -0.5 , 1.0]\n",
    "weight2 = [0.5 , -0.91, 0.26, -0.5]\n",
    "weight3 = [-0.26 , -0.27, 0.17, 0.87]\n",
    "bias1 = 2.0\n",
    "bias2 = 3.0\n",
    "bias3 = 0.5\n",
    "\n",
    "output = [\n",
    "    inputs[0]*weight1[0] + inputs[1]*weight1[1]+ inputs[2]*weight1[2] + inputs[3]*weight1[3] + bias1,\n",
    "    inputs[0]*weight2[0] + inputs[1]*weight2[1]+ inputs[2]*weight2[2] + inputs[3]*weight2[3] + bias2,\n",
    "    inputs[0]*weight3[0] + inputs[1]*weight3[1]+ inputs[2]*weight3[2] + inputs[3]*weight3[3] + bias3\n",
    "]\n",
    "\n",
    "print(output)"
   ]
  },
  {
   "cell_type": "markdown",
   "metadata": {},
   "source": [
    "exercise 2.1 use a loop"
   ]
  },
  {
   "cell_type": "code",
   "execution_count": 55,
   "metadata": {},
   "outputs": [
    {
     "name": "stdout",
     "output_type": "stream",
     "text": [
      "[4.8, 1.21, 2.385]\n"
     ]
    }
   ],
   "source": [
    "inputs = [ 1.0 , 2.0 , 3.0 , 2.5 ] \n",
    "weights = [[ 0.2 , 0.8 , - 0.5 , 1.0 ], \n",
    "[ 0.5 , - 0.91 , 0.26 , - 0.5 ], \n",
    "[ - 0.26 , - 0.27 , 0.17 , 0.87 ]] \n",
    "\n",
    "biases = [ 2.0 , 3.0 , 0.5 ] \n",
    "\n",
    "\n",
    "\n",
    "layer_outputs = [] \n",
    "for neuron_weights, neuron_bias in zip (weights, biases): \n",
    "    neuron_output = 0 \n",
    "    for n_input, weight in zip (inputs, neuron_weights): \n",
    "        neuron_output += n_input * weight \n",
    "    neuron_output += neuron_bias \n",
    "    layer_outputs.append(neuron_output) \n",
    "\n",
    "print (layer_outputs) "
   ]
  },
  {
   "cell_type": "markdown",
   "metadata": {},
   "source": [
    "exercise3"
   ]
  },
  {
   "cell_type": "code",
   "execution_count": 58,
   "metadata": {},
   "outputs": [
    {
     "name": "stdout",
     "output_type": "stream",
     "text": [
      "20\n"
     ]
    }
   ],
   "source": [
    "a = [1,2,3] \n",
    "b = [2,3,4]\n",
    "\n",
    "dot_product = a[0]*b[0] + a[1]*b[1] +a[2]*b[2]\n",
    "print(doc_product)"
   ]
  },
  {
   "cell_type": "markdown",
   "metadata": {},
   "source": [
    "exercise4"
   ]
  },
  {
   "cell_type": "code",
   "execution_count": 64,
   "metadata": {},
   "outputs": [
    {
     "name": "stdout",
     "output_type": "stream",
     "text": [
      "4.8\n"
     ]
    }
   ],
   "source": [
    "import numpy.matlib \n",
    "import numpy as np \n",
    "\n",
    "inputs = [1.0, 2.0, 3.0 , 2.5]\n",
    "weights = [ 0.2 , 0.8 , - 0.5 , 1.0 ]\n",
    "bias = 2.0\n",
    "\n",
    "outputs = np.dot(weights ,inputs ) + bias\n",
    "\n",
    "\n",
    "print(outputs)"
   ]
  },
  {
   "cell_type": "markdown",
   "metadata": {},
   "source": [
    "exrcise5"
   ]
  },
  {
   "cell_type": "code",
   "execution_count": 69,
   "metadata": {},
   "outputs": [
    {
     "name": "stdout",
     "output_type": "stream",
     "text": [
      "[[ 2.8   -1.79   1.885]\n",
      " [ 6.9   -4.81  -0.3  ]\n",
      " [-0.59  -1.949 -0.474]]\n",
      "[[ 4.8    1.21   2.385]\n",
      " [ 8.9   -1.81   0.2  ]\n",
      " [ 1.41   1.051  0.026]]\n"
     ]
    }
   ],
   "source": [
    "inputs = [[1.0, 2.0, 3.0 , 2.5],\n",
    "         [2.0 , 5.0 , -1.0, 2.0],\n",
    "         [-1.5, 2.7 , 3.3 ,-0.8]]\n",
    "weights = [[ 0.2 , 0.8 , - 0.5 , 1.0 ], \n",
    "[ 0.5 , - 0.91 , 0.26 , - 0.5 ], \n",
    "[ - 0.26 , - 0.27 , 0.17 , 0.87 ]] \n",
    "biases = [ 2.0 , 3.0 , 0.5 ] \n",
    "\n",
    "    \n",
    "outputs =np.dot(inputs, np.array(weights).T)+biases\n",
    "\n",
    "print(np.dot(inputs, np.array(weights).T))\n",
    "\n",
    "print(outputs)"
   ]
  },
  {
   "cell_type": "markdown",
   "metadata": {},
   "source": [
    "exercise6"
   ]
  },
  {
   "cell_type": "code",
   "execution_count": 71,
   "metadata": {},
   "outputs": [
    {
     "name": "stdout",
     "output_type": "stream",
     "text": [
      "[[ 4.8    1.21   2.385]\n",
      " [ 8.9   -1.81   0.2  ]\n",
      " [ 1.41   1.051  0.026]]\n"
     ]
    }
   ],
   "source": [
    "inputs = [[1.0, 2.0, 3.0 , 2.5],\n",
    "         [2.0 , 5.0 , -1.0, 2.0],\n",
    "         [-1.5, 2.7 , 3.3 ,-0.8]]\n",
    "weights = [[ 0.2 , 0.8 , - 0.5 , 1.0 ], \n",
    "[ 0.5 , - 0.91 , 0.26 , - 0.5 ], \n",
    "[ - 0.26 , - 0.27 , 0.17 , 0.87 ]] \n",
    "biases = [ 2.0 , 3.0 , 0.5 ] \n",
    "\n",
    "outputs =np.dot(inputs, np.array(weights).T)+biases\n",
    "\n",
    "\n",
    "print(outputs)"
   ]
  },
  {
   "cell_type": "markdown",
   "metadata": {},
   "source": [
    "exercise7"
   ]
  },
  {
   "cell_type": "code",
   "execution_count": 74,
   "metadata": {},
   "outputs": [
    {
     "name": "stdout",
     "output_type": "stream",
     "text": [
      "[[ 0.5031  -1.04185 -2.03875]\n",
      " [ 0.2434  -2.7332  -5.7633 ]\n",
      " [-0.99314  1.41254 -0.35655]]\n"
     ]
    }
   ],
   "source": [
    "inputs = [[1.0, 2.0, 3.0 , 2.5],\n",
    "         [2.0 , 5.0 , -1.0, 2.0],\n",
    "         [-1.5, 2.7 , 3.3 ,-0.8]]\n",
    "weights = [[ 0.2 , 0.8 , - 0.5 , 1.0 ], \n",
    "[ 0.5 , - 0.91 , 0.26 , - 0.5 ], \n",
    "[ - 0.26 , - 0.27 , 0.17 , 0.87 ]] \n",
    "biases = [ 2.0 , 3.0 , 0.5 ] \n",
    "\n",
    "weights2 = [[ 0.1 , - 0.14 , 0.5 ], \n",
    "[ - 0.5 , 0.12 , - 0.33 ], \n",
    "[ - 0.44 , 0.73 , - 0.13 ]] \n",
    "\n",
    "biases2 = [ - 1.0 , 2.0 , - 0.5 ] \n",
    "\n",
    "layer1_outputs = np.dot(inputs, np.array(weights).T) + biases \n",
    "\n",
    "layer2_outputs = np.dot(layer1_outputs, np.array(weights2).T) + biases2 \n",
    "\n",
    "\n",
    "print (layer2_outputs) "
   ]
  },
  {
   "cell_type": "markdown",
   "metadata": {},
   "source": [
    "exercise8"
   ]
  },
  {
   "cell_type": "code",
   "execution_count": 85,
   "metadata": {},
   "outputs": [
    {
     "data": {
      "image/png": "[encoded data removed]",
      "text/plain": [
       "<Figure size 432x288 with 1 Axes>"
      ]
     },
     "metadata": {
      "needs_background": "light"
     },
     "output_type": "display_data"
    }
   ],
   "source": [
    "from nnfs.datasets import spiral_data \n",
    "\n",
    "X, y = spiral_data( samples = 100 , classes = 3 ) \n",
    "\n",
    "plt.scatter(X[:, 0 ], X[:, 1 ]) \n",
    "\n",
    "plt.show() "
   ]
  },
  {
   "cell_type": "code",
   "execution_count": 87,
   "metadata": {},
   "outputs": [
    {
     "data": {
      "image/png": "[encoded data removed]",
      "text/plain": [
       "<Figure size 432x288 with 1 Axes>"
      ]
     },
     "metadata": {
      "needs_background": "light"
     },
     "output_type": "display_data"
    }
   ],
   "source": [
    "plt.scatter(X[:, 0 ], X[:, 1 ], c = y, cmap = 'brg' ) \n",
    "\n",
    "plt.show() "
   ]
  },
  {
   "cell_type": "code",
   "execution_count": null,
   "metadata": {},
   "outputs": [],
   "source": [
    "        "
   ]
  }
 ],
 "metadata": {
  "kernelspec": {
   "display_name": "Python 3",
   "language": "python",
   "name": "python3"
  },
  "language_info": {
   "codemirror_mode": {
    "name": "ipython",
    "version": 3
   },
   "file_extension": ".py",
   "mimetype": "text/x-python",
   "name": "python",
   "nbconvert_exporter": "python",
   "pygments_lexer": "ipython3",
   "version": "3.8.3"
  }
 },
 "nbformat": 4,
 "nbformat_minor": 4
}
